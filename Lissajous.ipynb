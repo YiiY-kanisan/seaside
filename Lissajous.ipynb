{
 "cells": [
  {
   "cell_type": "markdown",
   "metadata": {},
   "source": [
    "# リサジュー図形(リサージュ曲線)\n",
    "\n",
    "ここでは下式を図示する.  \n",
    "\n",
    "$ x = A_x \\sin{(n_x \\theta)}$  \n",
    "$ y = A_y \\sin{(n_y \\theta + \\phi)}$\n",
    "\n",
    "ここで,  \n",
    "- $A$ ... 振幅(比)\n",
    "- $n$ ... 周波数(比)\n",
    "- $\\phi$ ... 位相差  \n",
    "\n",
    "としている.  \n"
   ]
  },
  {
   "cell_type": "code",
   "execution_count": 15,
   "metadata": {
    "collapsed": false
   },
   "outputs": [
    {
     "data": {
      "image/png": "[encoded data removed]",
      "text/plain": [
       "<matplotlib.figure.Figure at 0x1f0e8dfe780>"
      ]
     },
     "metadata": {},
     "output_type": "display_data"
    },
    {
     "data": {
      "text/plain": [
       "<function __main__.myplot>"
      ]
     },
     "execution_count": 15,
     "metadata": {},
     "output_type": "execute_result"
    }
   ],
   "source": [
    "# リサジュー図形\n",
    "# (リサージュ曲線)\n",
    "\n",
    "# A:振幅(比)\n",
    "# n:周波数(比)\n",
    "# phi:位相差\n",
    "\n",
    "import numpy as np\n",
    "import matplotlib.pyplot as plt\n",
    "from ipywidgets import interact\n",
    "\n",
    "def myplot(Ax=1.0, Ay=1.0, nx=1.0, ny=1.0, phi=0.0):\n",
    "    theta = np.arange(0,3.14*50,0.01)\n",
    "    #phi  = np.pi/4\n",
    "    \n",
    "    x = Ax * np.sin(nx*theta)\n",
    "    y = Ay * np.sin(ny*theta + phi)\n",
    "    \n",
    "    if Ax>Ay:\n",
    "        limrange = Ax + 0.1\n",
    "    else:\n",
    "        limrange = Ay + 0.1\n",
    "        \n",
    "    plt.figure(figsize=(5,5))\n",
    "    plt.plot(x,y)\n",
    "    plt.xlim(-limrange,limrange)\n",
    "    plt.ylim(-limrange,limrange)\n",
    "    plt.xlabel(\"x\")\n",
    "    plt.ylabel(\"y\")\n",
    "    plt.grid()\n",
    "    plt.show()\n",
    "\n",
    "interact(myplot, Ax=(0.1,10.0,0.1), Ay=(0.1,10.0,0.1), nx=(0.1,1.0,0.1), ny=(0.1,1.0,0.1), phi=(-np.pi,np.pi,0.01))\n"
   ]
  },
  {
   "cell_type": "code",
   "execution_count": null,
   "metadata": {
    "collapsed": true
   },
   "outputs": [],
   "source": []
  }
 ],
 "metadata": {
  "kernelspec": {
   "display_name": "Python 3",
   "language": "python",
   "name": "python3"
  },
  "language_info": {
   "codemirror_mode": {
    "name": "ipython",
    "version": 3
   },
   "file_extension": ".py",
   "mimetype": "text/x-python",
   "name": "python",
   "nbconvert_exporter": "python",
   "pygments_lexer": "ipython3",
   "version": "3.6.0"
  },
  "widgets": {
   "state": {
    "bab5e050fd0c4ed5bcd228e8634e92d1": {
     "views": [
      {
       "cell_index": 0
      }
     ]
    }
   },
   "version": "1.2.0"
  }
 },
 "nbformat": 4,
 "nbformat_minor": 2
}
